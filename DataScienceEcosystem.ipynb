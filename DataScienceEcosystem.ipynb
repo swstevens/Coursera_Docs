{
 "cells": [
  {
   "cell_type": "markdown",
   "id": "bc731f43-57c4-40ea-b2f7-faf68626c181",
   "metadata": {},
   "source": [
    "# Data Science Tools and Ecosystem"
   ]
  },
  {
   "cell_type": "markdown",
   "id": "c68946e4-3859-4a2c-9b4b-552c17e7fede",
   "metadata": {},
   "source": [
    "### In this notebook, Data Science Tools and Ecosystem are summarized."
   ]
  },
  {
   "cell_type": "markdown",
   "id": "46618e69-5066-4d23-99e1-490bb745170d",
   "metadata": {},
   "source": [
    "##### Some of the popular languages that Data Scientists use are:"
   ]
  },
  {
   "cell_type": "markdown",
   "id": "7576e03a-531b-49e7-9ba4-a9b75696fc7e",
   "metadata": {},
   "source": [
    "##### Some of the popular languages that Data Scientists use are:\n",
    "1. Python\n",
    "2. R\n",
    "3. SQL"
   ]
  },
  {
   "cell_type": "markdown",
   "id": "aede8dc5-76e7-4605-8596-cd33a9f8155e",
   "metadata": {},
   "source": [
    "##### Some of the commonly used libraries used by Data Scientists include:\n",
    "1. Numpy\n",
    "2. Pandas\n",
    "3. ScikitLearn"
   ]
  },
  {
   "cell_type": "markdown",
   "id": "a6fbca08-fab3-4fa2-a3b3-b9bfea70817d",
   "metadata": {},
   "source": [
    "| Data Science Tools |\n",
    "| ------------------ |\n",
    "| Apache Spark       |\n",
    "| Tensorflow         |\n",
    "| Jupyter            |"
   ]
  },
  {
   "cell_type": "markdown",
   "id": "8e86bda2-5e70-47fa-9e14-3d460165e9f0",
   "metadata": {},
   "source": [
    "### Below are a few examples of evaluating arithmetic expressions in Python"
   ]
  },
  {
   "cell_type": "code",
   "execution_count": 1,
   "id": "5869f1f1-6ba4-4c75-88da-e6b7660bcc15",
   "metadata": {
    "tags": []
   },
   "outputs": [
    {
     "data": {
      "text/plain": [
       "17"
      ]
     },
     "execution_count": 1,
     "metadata": {},
     "output_type": "execute_result"
    }
   ],
   "source": [
    "# This is a simple arithmetic expresssion to multiply then add integers.\n",
    "(3*4)+5"
   ]
  },
  {
   "cell_type": "code",
   "execution_count": 2,
   "id": "7da299cf-c9f6-44f5-9251-06f4052a8921",
   "metadata": {
    "tags": []
   },
   "outputs": [
    {
     "data": {
      "text/plain": [
       "3.3333333333333335"
      ]
     },
     "execution_count": 2,
     "metadata": {},
     "output_type": "execute_result"
    }
   ],
   "source": [
    "# This will convert 200 minutes to hours by diving by 60\n",
    "200/60"
   ]
  },
  {
   "cell_type": "markdown",
   "id": "b8e31aa2-d088-43e6-87e7-f548d1484954",
   "metadata": {
    "tags": []
   },
   "source": [
    "###  **Objectives:**"
   ]
  },
  {
   "cell_type": "markdown",
   "id": "4f3b4162-32ea-4bfe-a7b2-8ca76535e0ac",
   "metadata": {
    "tags": []
   },
   "source": [
    "- expressions\n",
    "- tables\n",
    "- headers"
   ]
  },
  {
   "cell_type": "markdown",
   "id": "23aa603a-3ebf-4111-9852-29ebe646aaf2",
   "metadata": {},
   "source": [
    "## Author\n",
    "##### Shea Stevens"
   ]
  },
  {
   "cell_type": "code",
   "execution_count": null,
   "id": "dc61e710-ab89-48af-8db6-5fa3bfe48b07",
   "metadata": {},
   "outputs": [],
   "source": []
  }
 ],
 "metadata": {
  "kernelspec": {
   "display_name": "Python",
   "language": "python",
   "name": "conda-env-python-py"
  },
  "language_info": {
   "codemirror_mode": {
    "name": "ipython",
    "version": 3
   },
   "file_extension": ".py",
   "mimetype": "text/x-python",
   "name": "python",
   "nbconvert_exporter": "python",
   "pygments_lexer": "ipython3",
   "version": "3.7.12"
  }
 },
 "nbformat": 4,
 "nbformat_minor": 5
}
